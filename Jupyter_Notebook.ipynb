{
 "cells": [
  {
   "cell_type": "markdown",
   "metadata": {},
   "source": [
    "<center>\n",
    "    <img src=\"https://cf-courses-data.s3.us.cloud-object-storage.appdomain.cloud/IBMDeveloperSkillsNetwork-DS0105EN-SkillsNetwork/labs/Module2/images/SN_web_lightmode.png\" width=\"300\" alt=\"cognitiveclass.ai logo\">\n",
    "</center>\n"
   ]
  },
  {
   "cell_type": "markdown",
   "metadata": {},
   "source": [
    "# Final Assignment"
   ]
  },
  {
   "cell_type": "markdown",
   "metadata": {},
   "source": [
    "### Introduction\n",
    "\n",
    "This is the final assignment, in order to demonstrate my knowledge and skills in using tools for data science."
   ]
  },
  {
   "cell_type": "markdown",
   "metadata": {},
   "source": [
    "### Main Content\n",
    "\n",
    "The main data science languages are Python, R and SQL  "
   ]
  },
  {
   "cell_type": "markdown",
   "metadata": {},
   "source": [
    "Libraries used in data science include Pandas, NumPy, Matplotlib, Seaborn,Scikit-Learn, Keras, TensorFlow, PyTorch, etc."
   ]
  },
  {
   "cell_type": "markdown",
   "metadata": {},
   "source": [
    "| Tool | Description |\n",
    "| --- | --- |\n",
    "| IBM Watson Studio | A cloud-based platform for building and deploying machine learning models |\n",
    "| Python | A popular programming language for data science with numerous libraries and frameworks |\n",
    "| R | A statistical programming language with a wide range of built-in functions and packages |\n",
    "| Tableau | A data visualization tool that helps in analyzing data visually |\n",
    "| Apache Spark | A distributed computing framework used for big data processing |\n",
    "| TensorFlow | An open-source machine learning framework developed by Google |\n",
    "| SAS | A software suite for advanced analytics and predictive modeling |\n",
    "| Excel | A spreadsheet software commonly used for data manipulation and analysis |\n",
    "| MATLAB | A numerical computing environment and programming language used for scientific computing and data analysis |\n"
   ]
  },
  {
   "cell_type": "markdown",
   "metadata": {},
   "source": [
    "### Arithmetic Expressions\n",
    "\n",
    "Arithmetic expressions are mathematical statements consisting of numbers, operators, and parentheses. In programming, arithmetic expressions are used to perform calculations.\n",
    "\n",
    "Here are some examples of arithmetic expressions:\n",
    "\n",
    "| Expression | Result |\n",
    "|------------|--------|\n",
    "| 2 + 3      | 5      |\n",
    "| 7 - 4      | 3      |\n",
    "| 5 * 6      | 30     |\n",
    "| 9 / 3      | 3      |\n",
    "| 10 % 3     | 1      |\n",
    "\n",
    "In the table above, the operators `+`, `-`, `*`, `/`, and `%` represent addition, subtraction, multiplication, division, and modulo (remainder) respectively.\n"
   ]
  },
  {
   "cell_type": "code",
   "execution_count": 2,
   "metadata": {},
   "outputs": [
    {
     "data": {
      "text/plain": [
       "14"
      ]
     },
     "execution_count": 2,
     "metadata": {},
     "output_type": "execute_result"
    }
   ],
   "source": [
    "2*4+6"
   ]
  },
  {
   "cell_type": "code",
   "execution_count": 3,
   "metadata": {},
   "outputs": [
    {
     "name": "stdout",
     "output_type": "stream",
     "text": [
      "120 minutes is equal to 2.0 hours\n"
     ]
    }
   ],
   "source": [
    "# Input value in minutes\n",
    "minutes = 120\n",
    "\n",
    "# Convert minutes to hours\n",
    "hours = minutes / 60\n",
    "\n",
    "# Print result\n",
    "print(minutes, \"minutes is equal to\", hours, \"hours\")\n"
   ]
  },
  {
   "cell_type": "markdown",
   "metadata": {},
   "source": [
    "### Example of listing objectives\n",
    "\n",
    "- Learn the basics of Jupyter Notebook\n",
    "- Understand how to write and execute code in Jupyter Notebook\n",
    "- Explore the various features of Jupyter Notebook for data analysis and visualization\n",
    "- Learn how to share and collaborate on Jupyter Notebook projects\n"
   ]
  },
  {
   "cell_type": "markdown",
   "metadata": {},
   "source": [
    "### Author\n",
    "Teddy"
   ]
  },
  {
   "cell_type": "code",
   "execution_count": null,
   "metadata": {},
   "outputs": [],
   "source": []
  }
 ],
 "metadata": {
  "kernelspec": {
   "display_name": "Python",
   "language": "python",
   "name": "conda-env-python-py"
  },
  "language_info": {
   "codemirror_mode": {
    "name": "ipython",
    "version": 3
   },
   "file_extension": ".py",
   "mimetype": "text/x-python",
   "name": "python",
   "nbconvert_exporter": "python",
   "pygments_lexer": "ipython3",
   "version": "3.7.12"
  }
 },
 "nbformat": 4,
 "nbformat_minor": 4
}
